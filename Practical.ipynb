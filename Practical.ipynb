{
 "cells": [
  {
   "cell_type": "code",
   "execution_count": 2,
   "id": "e079ed03",
   "metadata": {},
   "outputs": [
    {
     "name": "stdout",
     "output_type": "stream",
     "text": [
      "5\n",
      "5\n",
      "2\n",
      "0.5\n"
     ]
    }
   ],
   "source": [
    "#For solving the coin change problem\n",
    "def make_coinChange(totalNumber, coins):\n",
    "    #N = totalNumber\n",
    "    coins.sort()\n",
    "    index = len(coins)-1\n",
    "    while True:\n",
    "        coinValue = coins[index]\n",
    "        if totalNumber >= coinValue:\n",
    "            print(coinValue)\n",
    "            totalNumber = totalNumber - coinValue\n",
    "        if totalNumber < coinValue:\n",
    "            index -= 1\n",
    "        \n",
    "        if totalNumber == 0:\n",
    "            break\n",
    "\n",
    "coins = [5, 2, 1, 0.5, 0.2, 0.1, 0.05]\n",
    "make_coinChange(12.5, coins)"
   ]
  },
  {
   "cell_type": "code",
   "execution_count": 4,
   "id": "5379136a",
   "metadata": {},
   "outputs": [
    {
     "name": "stdout",
     "output_type": "stream",
     "text": [
      "The factorial of 2 is 2\n"
     ]
    }
   ],
   "source": [
    "#This is a recursive function to find the factorial of an integer\n",
    "def factorial(i):\n",
    "    \n",
    "    if i == 1:\n",
    "        return 1\n",
    "    else:\n",
    "        return (i * factorial(i-1))\n",
    "\n",
    "\n",
    "num = 2\n",
    "print(\"The factorial of\", num, \"is\", factorial(num))"
   ]
  },
  {
   "cell_type": "code",
   "execution_count": null,
   "id": "ff328d00",
   "metadata": {},
   "outputs": [],
   "source": [
    "def all_possibilities(coins,count,ind, amount):\n",
    "    if ind >=len(coins):\n",
    "        print('result is ')\n",
    "        for i in range(len(coins)):\n",
    "            print('{} -> {} times'.format(coins[i]/100, count[i]))\n",
    "        print('\\n\\n')\n",
    "        \n",
    "        #our best case\n",
    "        if amount%coins[ind]==0:\n",
    "            count[ind] = amount/coins[ind]\n",
    "            #recursion\n",
    "            all_possibilities(coins, count, ind+1, 0)\n",
    "\n",
    "        else:\n",
    "            for i in range(int(amount/coins[ind])):\n",
    "                count[ind] = i\n",
    "                all_possibilities(coins, count, ind+1, amount-(coins[ind]*i))\n",
    "\n",
    "\n",
    "coins = [5, 2, 1, 0.5, 0.2, 0.1, 0.05]\n",
    "amount=12.35\n",
    "\n",
    "coins = [int(i*100) for i in coins]\n",
    "count = [0 for i in coins]\n",
    "amount = int(amount*100)\n",
    "\n",
    "all_possibilities(coins, count, 4, amount)\n",
    "print(amount)"
   ]
  },
  {
   "cell_type": "code",
   "execution_count": null,
   "id": "469c3bff",
   "metadata": {},
   "outputs": [],
   "source": []
  },
  {
   "cell_type": "code",
   "execution_count": null,
   "id": "03aed692",
   "metadata": {},
   "outputs": [],
   "source": []
  }
 ],
 "metadata": {
  "kernelspec": {
   "display_name": "Python 3 (ipykernel)",
   "language": "python",
   "name": "python3"
  },
  "language_info": {
   "codemirror_mode": {
    "name": "ipython",
    "version": 3
   },
   "file_extension": ".py",
   "mimetype": "text/x-python",
   "name": "python",
   "nbconvert_exporter": "python",
   "pygments_lexer": "ipython3",
   "version": "3.10.10"
  }
 },
 "nbformat": 4,
 "nbformat_minor": 5
}
